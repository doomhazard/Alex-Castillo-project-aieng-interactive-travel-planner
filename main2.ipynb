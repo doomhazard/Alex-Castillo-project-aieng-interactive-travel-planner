{
 "cells": [
  {
   "cell_type": "markdown",
   "metadata": {},
   "source": [
    "# Imports"
   ]
  },
  {
   "cell_type": "code",
   "execution_count": 1,
   "metadata": {},
   "outputs": [],
   "source": [
    "import os\n",
    "from dotenv import load_dotenv, find_dotenv\n",
    "\n",
    "from pinecone import ServerlessSpec\n",
    "\n",
    "from langchain.chat_models import ChatOpenAI\n"
   ]
  },
  {
   "cell_type": "markdown",
   "metadata": {},
   "source": [
    "# Loading context"
   ]
  },
  {
   "cell_type": "code",
   "execution_count": 2,
   "metadata": {},
   "outputs": [],
   "source": [
    "with open('all_context.txt') as f:\n",
    "    all_context = f.read()\n",
    "\n",
    "all_context = all_context.split('\\n')\n",
    "all_context = [item.replace(\"\\t\", \"\") for item in all_context]\n",
    "all_context = [item.replace(\"=\", \"\") for item in all_context]\n",
    "all_context = list(filter(None, all_context))\n",
    "\n",
    "\n",
    "#display(len(all_context), all_context)\n",
    "\n",
    "source_knowledge = \"\".join(all_context)\n",
    "source_knowledge_a = source_knowledge[ : len(source_knowledge)//10]\n",
    "\n",
    "again = False\n",
    "\n",
    "#display(len(source_knowledge), source_knowledge)"
   ]
  },
  {
   "cell_type": "markdown",
   "metadata": {},
   "source": [
    "# Loading keys"
   ]
  },
  {
   "cell_type": "code",
   "execution_count": 3,
   "metadata": {},
   "outputs": [],
   "source": [
    "_ = load_dotenv(find_dotenv())\n",
    "\n",
    "OPENAI_API_KEY   = os.getenv('OPENAI_API_KEY')\n",
    "PINECONE_API_KEY = os.getenv('PINECONE_API_KEY')"
   ]
  },
  {
   "cell_type": "markdown",
   "metadata": {},
   "source": [
    "# Pinecone connection"
   ]
  },
  {
   "cell_type": "code",
   "execution_count": 5,
   "metadata": {},
   "outputs": [],
   "source": [
    "from pinecone import Pinecone\n",
    "\n",
    "spec = ServerlessSpec(\n",
    "    cloud = \"aws\", region = \"us-east-1\"\n",
    ")\n",
    "\n",
    "# connect to pinecone environment\n",
    "pc = Pinecone(\n",
    "    api_key = PINECONE_API_KEY,\n",
    "    environment = 'us-east-1'  # find next to API key in console\n",
    ")"
   ]
  },
  {
   "cell_type": "markdown",
   "metadata": {},
   "source": [
    "# OpenAI connection"
   ]
  },
  {
   "cell_type": "code",
   "execution_count": 6,
   "metadata": {},
   "outputs": [
    {
     "name": "stderr",
     "output_type": "stream",
     "text": [
      "/tmp/ipykernel_13214/1032221635.py:1: LangChainDeprecationWarning: The class `ChatOpenAI` was deprecated in LangChain 0.0.10 and will be removed in 1.0. An updated version of the class exists in the :class:`~langchain-openai package and should be used instead. To use it run `pip install -U :class:`~langchain-openai` and import as `from :class:`~langchain_openai import ChatOpenAI``.\n",
      "  chat = ChatOpenAI(\n"
     ]
    }
   ],
   "source": [
    "chat = ChatOpenAI(\n",
    "    openai_api_key = os.environ[\"OPENAI_API_KEY\"],\n",
    "    model = 'gpt-4-turbo'\n",
    ")\n",
    "\n",
    "# model = 'gpt-3.5-turbo' - 60,000, 'gpt-4-turbo-preview' - 30,000, o1-preview -"
   ]
  },
  {
   "cell_type": "code",
   "execution_count": 7,
   "metadata": {},
   "outputs": [],
   "source": [
    "from langchain.schema import (\n",
    "    SystemMessage,\n",
    "    HumanMessage,\n",
    "    AIMessage\n",
    ")\n",
    "\n",
    "messages = [\n",
    "    SystemMessage(content = \"You are RecommendationBot, an automated service that interacts with a prospective traveler and suggests visiting spots in the Island of Puerto Rico based on the interests of the user.\"),\n",
    "    HumanMessage(content = \"Hi AI, how are you today?\"),\n",
    "    AIMessage(content = \"I'm great thank you. How can I help you?\"),\n",
    "    HumanMessage(content = \"I'm planning to visit Puerto Rico. What are 5 good places to go as a tourist.\"),\n",
    "    AIMessage(content = \"It will depend on your interest. What things interest you?\"),\n",
    "]\n"
   ]
  },
  {
   "cell_type": "markdown",
   "metadata": {},
   "source": [
    "# Q&A bot"
   ]
  },
  {
   "cell_type": "code",
   "execution_count": 8,
   "metadata": {},
   "outputs": [
    {
     "name": "stdout",
     "output_type": "stream",
     "text": [
      "Welcome again to RecommendationBot AI, an automated service that interacts with a prospective traveler and suggests visiting spots in the Island of Puerto Rico based on the interests of the user.\n"
     ]
    },
    {
     "name": "stderr",
     "output_type": "stream",
     "text": [
      "/tmp/ipykernel_13214/3588586642.py:25: LangChainDeprecationWarning: The method `BaseChatModel.__call__` was deprecated in langchain-core 0.1.7 and will be removed in 1.0. Use :meth:`~invoke` instead.\n",
      "  res = chat(messages)\n"
     ]
    },
    {
     "name": "stdout",
     "output_type": "stream",
     "text": [
      "For someone who enjoys beaches, museums, and ruins, here are five recommended places to visit based on the detailed descriptions of various locations:\n",
      "\n",
      "1. **Arecibo, Puerto Rico**:\n",
      "   - **Beaches**: Arecibo offers several attractive beaches including Caza y Pesca, La Poza del Obispo, and Playa Sardinera.\n",
      "   - **Museums**: Visit the Arecibo Observatory visitor center, which, despite the collapse of the telescope, offers educational displays and historical insights into the facility's contributions to space science.\n",
      "   - **Landmarks and Ruins**: Explore the Cueva del Indio, which features ancient Taino petroglyphs and offers a historical glimpse into the lives of the indigenous people.\n",
      "\n",
      "2. **Adjuntas, Puerto Rico**:\n",
      "   - **Museums**: Casa Pueblo is not only a museum but also a cultural center in Adjuntas that focuses on environmental conservation.\n",
      "   - **Natural Sites**: Although not a beach destination, Adjuntas provides serene mountainous landscapes and natural pools formed by rivers, offering a different kind of natural beauty.\n",
      "\n",
      "3. **Aguada, Puerto Rico**:\n",
      "   - **Beaches**: Aguada offers lovely coastal lines along the Atlantic Ocean, perfect for beach lovers.\n",
      "   - **Historical Sites**: Explore the historical significance of Aguada, where Christopher Columbus might have landed, adding a touch of historical ruins exploration to your visit.\n",
      "   \n",
      "4. **Ponce, Puerto Rico** (mentioned in the context of its relation to Adjuntas):\n",
      "   - **Beaches**: Enjoy the nearby coastal areas, as Ponce itself gives access to the southern beaches of Puerto Rico.\n",
      "   - **Museums**: Visit the Museo de Arte de Ponce, known for its extensive collection of European and Puerto Rican art.\n",
      "   - **Historical Sites**: Explore the historic downtown with its architectural and museum offerings, including various preserved estates and ruins.\n",
      "\n",
      "5. **San Juan, Puerto Rico**:\n",
      "   - **Beaches**: San Juan features beautiful beaches such as Condado Beach and Escambrón Beach.\n",
      "   - **Museums**: Visit the Museo de Arte de Puerto Rico and the Museo de Las Americas for cultural and artistic insights.\n",
      "   - **Ruins**: Explore the historic forts like Castillo San Felipe del Morro, which offer a rich history and stunning views of the surrounding area.\n",
      "\n",
      "Each of these destinations provides a blend of natural beauty, cultural richness, and historical depth, suitable for a traveler interested in beaches, museums, and ruins.\n",
      "Welcome again to RecommendationBot AI\n",
      "For someone who enjoys beaches, museums, and ruins, here are five recommended places to visit based on the provided contexts:\n",
      "\n",
      "1. **Poza del Obispo Beach (Arecibo, Puerto Rico)** - Located in Arecibo, this beach is known for its beautiful scenery and powerful waves, making it a popular spot for both relaxation and surfing. It's also near the Arecibo Lighthouse and Historical Park, adding a touch of historical interest to your beach visit.\n",
      "\n",
      "2. **Cueva del Indio (Arecibo, Puerto Rico)** - Also in Arecibo, Cueva del Indio is an archaeological site where you can explore caves with ancient Taíno petroglyphs. The site offers a blend of natural beauty with rocky coastlines and historical significance, making it a great spot for those interested in ruins and indigenous history.\n",
      "\n",
      "3. **Museum of Art and History of Arecibo (Arecibo, Puerto Rico)** - This museum presents art from local artists and showcases the city's history. It's a good place to learn about the cultural and artistic heritage of the region, complementing a visit that includes beaches and historical sites.\n",
      "\n",
      "4. **Las Cabañas Bridge (Aguada, Puerto Rico)** - While in Aguada, visit the Las Cabañas Bridge, a historic one-lane bridge built in 1919. This site combines architectural interest with historical significance and is located in a region with access to beaches.\n",
      "\n",
      "5. **Cueva Ventana (Arecibo, Puerto Rico)** - This large cave offers a picturesque window-like opening that frames the lush valley below. It's not only a natural wonder but also a site of historical interest, with evidence of prehistoric indigenous habitation. The cave provides a unique experience combining natural beauty with a sense of historical exploration.\n",
      "\n",
      "These locations offer a mix of beach relaxation, historical exploration, and cultural education, making them ideal for someone with your interests.\n"
     ]
    }
   ],
   "source": [
    "#source_knowledge = \"\".join(all_context)\n",
    "\n",
    "print(\"Welcome again to RecommendationBot AI, an automated service that interacts with a prospective traveler and suggests visiting spots in the Island of Puerto Rico based on the interests of the user.\")\n",
    "interests = input(\"Please tell me what kind of things you are interested about\")\n",
    "\n",
    "query = f\"What are 5 good places to visit for someone who likes {interests}?\"\n",
    "\n",
    "augmented_prompt = f\"\"\"Using the contexts below, answer the query.\n",
    "\n",
    "Contexts:\n",
    "{source_knowledge_a}\n",
    "\n",
    "Query: {query}\"\"\"\n",
    "\n",
    "\n",
    "# create a new user prompt\n",
    "prompt = HumanMessage(\n",
    "    content = augmented_prompt\n",
    ")\n",
    "# add to messages\n",
    "messages = []\n",
    "messages.append(prompt)\n",
    "\n",
    "# send to OpenAI and print result\n",
    "res = chat(messages)\n",
    "print(res.content)\n",
    "\n",
    "again = False\n",
    "option = input(\"Want to have more recommendations for places to visit? \\\"Yes\\\" or \\\"No\\\":\")\n",
    "if(option in [\"Yes\", \"yes\", \"Y\", \"y\"] ):\n",
    "    again = True\n",
    "elif(option in [\"No\", \"no\", \"N\", \"n\"]):\n",
    "    again = False\n",
    "\n",
    "while again:\n",
    "    print(\"Welcome again to RecommendationBot AI\")\n",
    "    name = input(\"Please tell me more interests of you:\")\n",
    "    \n",
    "    query = f\"What are 5 good places to visit for someone who likes {interests}?\"\n",
    "\n",
    "    augmented_prompt = f\"\"\"Using the contexts below, answer the query.\n",
    "\n",
    "    Contexts:\n",
    "    {source_knowledge_a}\n",
    "\n",
    "    Query: {query}\"\"\"\n",
    "    \n",
    "    # create a new user prompt\n",
    "    prompt = HumanMessage(\n",
    "        content = augmented_prompt\n",
    "    )\n",
    "    # add to messages\n",
    "    messages = []\n",
    "    messages.append(prompt)\n",
    "\n",
    "    # send to OpenAI and print result\n",
    "    res = chat(messages)\n",
    "    print(res.content)\n",
    "\n",
    "    option = input(\"Want to have more recommendations for places to visit? \\\"Yes\\\" or \\\"No\\\":\")\n",
    "    if(option in [\"Yes\", \"yes\", \"Y\", \"y\"] ):\n",
    "        again = True\n",
    "    elif(option in [\"No\", \"no\", \"N\", \"n\"]):\n",
    "        again = False\n",
    "    "
   ]
  },
  {
   "cell_type": "code",
   "execution_count": null,
   "metadata": {},
   "outputs": [],
   "source": []
  },
  {
   "cell_type": "code",
   "execution_count": null,
   "metadata": {},
   "outputs": [],
   "source": []
  },
  {
   "cell_type": "code",
   "execution_count": null,
   "metadata": {},
   "outputs": [],
   "source": []
  },
  {
   "cell_type": "code",
   "execution_count": null,
   "metadata": {},
   "outputs": [],
   "source": []
  },
  {
   "cell_type": "code",
   "execution_count": 9,
   "metadata": {},
   "outputs": [
    {
     "data": {
      "text/plain": [
       "'from openai.error import RateLimitError\\nimport backoff\\n\\n@backoff.on_exception(backoff.expo, RateLimitError)\\ndef completions_with_backoff(**kwargs):\\n    response = openai.Completion.create(**kwargs)\\n    return response'"
      ]
     },
     "execution_count": 9,
     "metadata": {},
     "output_type": "execute_result"
    }
   ],
   "source": [
    "'''from openai.error import RateLimitError\n",
    "import backoff\n",
    "\n",
    "@backoff.on_exception(backoff.expo, RateLimitError)\n",
    "def completions_with_backoff(**kwargs):\n",
    "    response = openai.Completion.create(**kwargs)\n",
    "    return response'''"
   ]
  },
  {
   "cell_type": "code",
   "execution_count": 10,
   "metadata": {},
   "outputs": [
    {
     "data": {
      "text/plain": [
       "'import gradio as gr\\n\\ndef greet(name):\\n    return \"Hello \" + name + \"!\"\\n\\ndemo = gr.Interface(fn = greet, inputs = \"text\", outputs = \"text\")\\n\\ndemo.launch(share = True)'"
      ]
     },
     "execution_count": 10,
     "metadata": {},
     "output_type": "execute_result"
    }
   ],
   "source": [
    "'''import gradio as gr\n",
    "\n",
    "def greet(name):\n",
    "    return \"Hello \" + name + \"!\"\n",
    "\n",
    "demo = gr.Interface(fn = greet, inputs = \"text\", outputs = \"text\")\n",
    "\n",
    "demo.launch(share = True)'''"
   ]
  }
 ],
 "metadata": {
  "kernelspec": {
   "display_name": "tf-gpu",
   "language": "python",
   "name": "python3"
  },
  "language_info": {
   "codemirror_mode": {
    "name": "ipython",
    "version": 3
   },
   "file_extension": ".py",
   "mimetype": "text/x-python",
   "name": "python",
   "nbconvert_exporter": "python",
   "pygments_lexer": "ipython3",
   "version": "3.12.3"
  }
 },
 "nbformat": 4,
 "nbformat_minor": 2
}
